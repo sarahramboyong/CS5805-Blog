{
  "cells": [
    {
      "cell_type": "raw",
      "metadata": {},
      "source": [
        "---\n",
        "title: \"Classification\"\n",
        "author: \"Sarah Ramboyong\"\n",
        "date: \"2023-12-6\"\n",
        "image: \"classification_image.jpg\"\n",
        "---"
      ],
      "id": "b96abfc4"
    },
    {
      "cell_type": "markdown",
      "metadata": {},
      "source": [
        "# Introduction \n",
        "\n",
        "Classification is a supervised machine learning technique that attempts to predict the correct label for the given data points. There are three phases in supervised learning. \n",
        "\n",
        "1. The model is trained on a subset of the data and is given both the input data and its labels.\n",
        "2. It is then evaluated on the testing subset.\n",
        "3. Finally, it predicts labels on new unseen data. This is called validation. \n",
        "\n",
        "\n",
        "Machine learning classification algorithms are split into two types: eager learners and lazy learners. Eager learners build the model from the training dataset before making any predictions on future datasets. Lazy learners memorize the training data and refer to those past inputs and outputs to make predictions on future points. For these reasons, eager learners are typically perform faster than lazy learners.\n",
        "\n",
        "In this blog post we will be implementing two different classification models, decision trees and K-Nearest Neighbor. Decision trees are eager learners while K-Nearest Neighbor is a lazy learning. We will be using the SMS Spam Collection dataset from the UCI Machine Learning Repository. This dataset contains 5,574 SMS messages in English, labeled ham (legitimate) or spam. This dataset is publically avaliable on [The UCI Machine Learning Repository Website](https://archive.ics.uci.edu/dataset/228/sms+spam+collection).\n"
      ],
      "id": "9b1058d2"
    },
    {
      "cell_type": "code",
      "metadata": {},
      "source": [
        "# Load the SMS Spam Collection dataset\n",
        "import pandas as pd\n",
        "\n",
        "# Load the SMS Spam Collection dataset\n",
        "df = pd.read_csv(\"C:/Users/sarah/git/CS5805-Blog/posts/4-classification/SMSSpamCollection\", sep=\"\\t\", names=[\"label\", \"message\"])\n",
        "df.head()"
      ],
      "id": "b76e4575",
      "execution_count": null,
      "outputs": []
    },
    {
      "cell_type": "markdown",
      "metadata": {},
      "source": [
        "Before we can perform classification algorithms we will first need todo some preprocessing steps. \n",
        "1. Convert all text to lowercase to ensure that words are treated the same, regardless of case\n",
        "2. Remove all punctuation to reduce noise\n",
        "3. Remove all stop words. Stopwords are common words like 'is', 'the', 'and', etc. that usually don't carry much information.\n"
      ],
      "id": "268c99fb"
    },
    {
      "cell_type": "code",
      "metadata": {},
      "source": [
        "import warnings\n",
        "warnings.filterwarnings('ignore')\n",
        "import nltk\n",
        "from nltk.corpus import stopwords\n",
        "from nltk.stem import PorterStemmer\n",
        "import re\n",
        "\n",
        "# Download the stopwords from NLTK\n",
        "nltk.download('stopwords')\n",
        "\n",
        "stemmer = PorterStemmer()\n",
        "\n",
        "# Function to preprocess text\n",
        "def preprocess(text):\n",
        "    # Convert to lower case\n",
        "    text = text.lower()\n",
        "    # Remove punctuation\n",
        "    text = re.sub('[^a-z]', ' ', text)\n",
        "    # Remove stopwords and stem the words\n",
        "    text = ' '.join(word for word in text.split() if word not in set(stopwords.words('english')))\n",
        "    return text\n",
        "\n",
        "# Apply the preprocessing to each message\n",
        "df['message'] = df['message'].apply(preprocess)\n",
        "df['message'].head()"
      ],
      "id": "fdccd98c",
      "execution_count": null,
      "outputs": []
    },
    {
      "cell_type": "markdown",
      "metadata": {},
      "source": [
        "Now we can begin performing classification.\n",
        "\n",
        "# Decision Trees\n",
        "\n",
        "A decision tree is a supervised algorithm that has a heirarchial, tree structure. It can be visualized as a flowchart-like diagram and is made up of decision nodes and leaves. The decision nodes are where the features are evaluated and the leaves represent the final outcome.\n"
      ],
      "id": "b0253bf5"
    },
    {
      "cell_type": "code",
      "metadata": {},
      "source": [
        "from sklearn.feature_extraction.text import CountVectorizer\n",
        "from sklearn.model_selection import train_test_split\n",
        "from sklearn.tree import DecisionTreeClassifier\n",
        "from sklearn.metrics import accuracy_score, confusion_matrix\n",
        "from sklearn.metrics import classification_report\n",
        "\n",
        "# Convert the text messages to a matrix of token counts\n",
        "cv = CountVectorizer()\n",
        "X = cv.fit_transform(df['message']).toarray()\n",
        "y = df['label']\n",
        "\n",
        "# Split the data into training and testing sets\n",
        "X_train, X_test, y_train, y_test = train_test_split(X, y, test_size=0.2, random_state=42)\n",
        "\n",
        "# Train a Decision Tree model\n",
        "clf = DecisionTreeClassifier()\n",
        "clf.fit(X_train, y_train)\n",
        "\n",
        "# Make predictions on the testing data\n",
        "y_pred = clf.predict(X_test)\n",
        "\n",
        "# Calculate accuracy\n",
        "accuracy = accuracy_score(y_test, y_pred)\n",
        "print(f'Accuracy: {accuracy}')\n",
        "\n",
        "# Calculate confusion matrix\n",
        "conf_mat = confusion_matrix(y_test, y_pred)\n",
        "print(f'Confusion Matrix: \\n{conf_mat}')"
      ],
      "id": "4e6caa75",
      "execution_count": null,
      "outputs": []
    },
    {
      "cell_type": "markdown",
      "metadata": {},
      "source": [
        "We see that the accuracy of our decision tree on the Spam Collection dataset was 97.58%. Our confusion matrix shows that 956 messages were correctly labeled ham (legitimate) and 132 were correctly labeled spam. We also see that 10 messages were legitimate but labeled spam, and 17 were spam but labeled legitimate. This dataset is 86.6% legitimate messages and 13.4% spam messages, so it is expected that the model will over classify messages as legitimate.\n"
      ],
      "id": "a0cd9e15"
    },
    {
      "cell_type": "code",
      "metadata": {},
      "source": [
        "# Print a classification report\n",
        "print(classification_report(y_test, y_pred))"
      ],
      "id": "459fbb3a",
      "execution_count": null,
      "outputs": []
    },
    {
      "cell_type": "markdown",
      "metadata": {},
      "source": [
        "The classification report gives additional metrics on our model. We can see that the precision, the proportion of true positives predictions to the total number of postives that the model predicts, was high for both ham and spam. The recall is the proportion of true positives predictions to all true data points. Recall was very high for ham, and relatively high for spam. The F1 score is the trade-off between these two measures and again, it was very high for ham and relativley high for spam.\n",
        "\n",
        "We can also visualize the decision model that we trained using sklean's plot_tree function.\n"
      ],
      "id": "c3a36c03"
    },
    {
      "cell_type": "code",
      "metadata": {},
      "source": [
        "from sklearn.tree import plot_tree\n",
        "import matplotlib.pyplot as plt\n",
        "\n",
        "# Plot the decision tree\n",
        "plt.figure(figsize=(20,10))\n",
        "plot_tree(clf, filled=True, rounded=True, class_names=['Ham', 'Spam'], feature_names=cv.get_feature_names_out())\n",
        "plt.show()"
      ],
      "id": "fc0d5903",
      "execution_count": null,
      "outputs": []
    },
    {
      "cell_type": "markdown",
      "metadata": {},
      "source": [
        "We see that the decision tree that we generated is very large, which makes sense seeing that the dataset contains just under 5,000 messages.\n"
      ],
      "id": "1c6cdb30"
    },
    {
      "cell_type": "code",
      "metadata": {},
      "source": [
        "print(clf.tree_.node_count)"
      ],
      "id": "e8ccd735",
      "execution_count": null,
      "outputs": []
    },
    {
      "cell_type": "markdown",
      "metadata": {},
      "source": [
        "Using the built-in function, we see that there are 261 nodes in this decision tree. The number of branches is always # nodes - 1, so we also know that there are 260 branches in this tree.\n",
        "\n",
        "# K-Nearest Neighbor\n",
        "\n",
        "K-Nearest Neighbor (KNN) is another type of supervised learning algorithm. \n",
        "It uses the distance between points to identify the nearest K neighbors and assign a prediction label. \n",
        "\n",
        "First we have to select the K number of neighbors to calculate the distance to. Generally it is best practice to select an odd number for k to avoid ties in classification. For large datasets and datasets with more noise, it is usually best to select a large value for k.\n",
        "\n",
        "A common practice of finding the optimal K is by taking the square root of the total number of samples. In our case, $\\sqrt(4827)=69.47$. We will implement KNN using K=69.\n"
      ],
      "id": "74adc1b4"
    },
    {
      "cell_type": "code",
      "metadata": {},
      "source": [
        "from sklearn.feature_extraction.text import CountVectorizer\n",
        "from sklearn.model_selection import train_test_split\n",
        "from sklearn.neighbors import KNeighborsClassifier\n",
        "from sklearn.metrics import classification_report\n",
        "\n",
        "# Convert the text messages to a matrix of token counts\n",
        "cv = CountVectorizer()\n",
        "X = cv.fit_transform(df['message']).toarray()\n",
        "y = df['label']\n",
        "\n",
        "# Split the data into training and testing sets\n",
        "X_train, X_test, y_train, y_test = train_test_split(X, y, test_size=0.2, random_state=42)\n",
        "\n",
        "# Train a KNN model\n",
        "knn = KNeighborsClassifier(n_neighbors=69)\n",
        "knn.fit(X_train, y_train)\n",
        "\n",
        "# Make predictions on the testing data\n",
        "y_pred = knn.predict(X_test)\n",
        "\n",
        "# Calculate accuracy\n",
        "accuracy = accuracy_score(y_test, y_pred)\n",
        "print(f'Accuracy: {accuracy}')\n",
        "\n",
        "# Calculate confusion matrix\n",
        "conf_mat = confusion_matrix(y_test, y_pred)\n",
        "print(f'Confusion Matrix: \\n{conf_mat}')"
      ],
      "id": "993bae8b",
      "execution_count": null,
      "outputs": []
    },
    {
      "cell_type": "markdown",
      "metadata": {},
      "source": [
        "We see that the accuracy on this dataset using KNN is 86.64%. The confusion matrix shows that 149 spam messages were incorrectly labeled as ham, and no ham messages were incorrectly labeled as spam. \n",
        "\n",
        "We will attempt to find a more optimal K by rerunning the algorithm multiple times and selecting the K that gives the highest accuracy."
      ],
      "id": "6abe8836"
    },
    {
      "cell_type": "code",
      "metadata": {},
      "source": [
        "from sklearn.metrics import accuracy_score\n",
        "\n",
        "# List of possible K values\n",
        "k_values = list(range(3, 80))\n",
        "\n",
        "# List to store accuracy for each K\n",
        "accuracy_list = []\n",
        "\n",
        "# Loop over possible K values\n",
        "for k in k_values:\n",
        "    knn = KNeighborsClassifier(n_neighbors=k)\n",
        "    knn.fit(X_train, y_train)\n",
        "    y_pred = knn.predict(X_test)\n",
        "    accuracy = accuracy_score(y_test, y_pred)\n",
        "    accuracy_list.append(accuracy)\n",
        "\n",
        "# Find K that gives highest accuracy\n",
        "optimal_k = k_values[accuracy_list.index(max(accuracy_list))]\n",
        "\n",
        "print(f'Optimal K is {optimal_k} with accuracy of {max(accuracy_list)}')"
      ],
      "id": "22732dd3",
      "execution_count": null,
      "outputs": []
    },
    {
      "cell_type": "markdown",
      "metadata": {},
      "source": [
        "From this we find that the best K is actually 3, with an accuracy of 93.45%. We will run the model and metrics one last time with this optimal K.\n"
      ],
      "id": "eaab56f9"
    },
    {
      "cell_type": "code",
      "metadata": {},
      "source": [
        "# Train a KNN model\n",
        "knn = KNeighborsClassifier(n_neighbors=3)\n",
        "knn.fit(X_train, y_train)\n",
        "\n",
        "# Make predictions on the testing data\n",
        "y_pred = knn.predict(X_test)\n",
        "\n",
        "# Calculate accuracy\n",
        "accuracy = accuracy_score(y_test, y_pred)\n",
        "print(f'Accuracy: {accuracy}')\n",
        "\n",
        "# Calculate confusion matrix\n",
        "conf_mat = confusion_matrix(y_test, y_pred)\n",
        "print(f'Confusion Matrix: \\n{conf_mat}')"
      ],
      "id": "f6ac6bdb",
      "execution_count": null,
      "outputs": []
    },
    {
      "cell_type": "markdown",
      "metadata": {},
      "source": [
        "The confusion matric for our new optimal K=3 shows that, again, no ham messages were incorrectly labeled as spam and 73 spam messages were incorrectly labeled as ham.\n"
      ],
      "id": "d551049c"
    },
    {
      "cell_type": "code",
      "metadata": {},
      "source": [
        "# Print a classification report\n",
        "print(classification_report(y_test, y_pred))"
      ],
      "id": "f1550d5b",
      "execution_count": null,
      "outputs": []
    },
    {
      "cell_type": "markdown",
      "metadata": {},
      "source": [
        "# Conclusion\n",
        "\n",
        "Overall our decision tree achieved a higher accuracy of 97.58% while our KNN model achieved 93.45% at best. The KNN model showcased the downsides of lazy learner models, as well as the potential problems with having an unbalanced training set. \n",
        "\n",
        "\n",
        "## References:\n",
        "* https://www.datacamp.com/blog/classification-machine-learning\n",
        "* https://www.datacamp.com/tutorial/decision-tree-classification-python\n",
        "* https://archive.ics.uci.edu/dataset/228/sms+spam+collection\n",
        "* https://www.labelf.ai/blog/what-is-accuracy-precision-recall-and-f1-score"
      ],
      "id": "8b15ecde"
    }
  ],
  "metadata": {
    "kernelspec": {
      "name": "python3",
      "language": "python",
      "display_name": "Python 3 (ipykernel)"
    }
  },
  "nbformat": 4,
  "nbformat_minor": 5
}